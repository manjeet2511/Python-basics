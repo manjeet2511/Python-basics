{
  "nbformat": 4,
  "nbformat_minor": 0,
  "metadata": {
    "colab": {
      "provenance": []
    },
    "kernelspec": {
      "name": "python3",
      "display_name": "Python 3"
    },
    "language_info": {
      "name": "python"
    }
  },
  "cells": [
    {
      "cell_type": "markdown",
      "source": [
        "# Q1) What is Object-Oriented Programming (OOP)?\n",
        "**Ans:-**Object-Oriented Programming (OOP) is a programming paradigm that structures code around \"objects\" rather than functions and logic. It aims to model real-world entities and their interactions within a program.\n",
        "\n",
        "# Q2) What is a class in OOP?\n",
        "**Ans:-** In OOP, a class is a blueprint or template used to create objects, which are instances of that class. It defines the attributes/data and methods/functions that the objects created from the class will have. A class does not hold any actual data itself; rather, it outlines what kind of data and behavior each object will have.\n",
        "\n",
        "#Q3) What is an object in OOP?\n",
        "**Ans:-**In OOP, an object is a fundamental building block, representing a real-world entity or a conceptual component within a program. It is an instance of a class.\n",
        "\n",
        "#Q4) What is the difference between abstraction and encapsulation?\n",
        "**Ans:-** Both abstraction and encapsulation are fundamental to OOP and often used together. Abstraction hides unnecessary details while encapsulation hides sensitive data and ensures controlled access.\n",
        "\n",
        "#Q5) What are dunder methods in Python?\n",
        "**Ans:-** Dunder methods, also known as magic methods, are special methods in Python that are identified by their names starting and ending with double underscores (e.g., __init__, __str__, __add__).\n",
        "\n",
        "#Q6) Explain the concept of inheritance in OOP.\n",
        "**Ans:-**Inheritance in OOP is a fundamental concept that allows a class to inherit properties and behaviors (attributes and methods) from another class. It promotes code reuse, improves organization, and supports hierarchical classification.\n",
        "\n",
        "#Q7) What is polymorphism in OOP?\n",
        "**Ans:-** In OOP, polymorphism is the ability of different classes to be treated as instances of the same class through a common interface. It allows objects of different types to respond to the same method call in different ways.\n",
        "\n",
        "#Q8)  How is encapsulation achieved in Python?\n",
        "**Ans:-**Encapsulation in Python is achieved by restricting direct access to some of an object's components, which helps prevent accidental modification of data. It's a fundamental OOP principle that bundles data and methods that operate on that data into a single unit — usually a class — and hides internal details from outside interference.\n",
        "\n",
        "#Q9)  What is a constructor in Python?\n",
        "**Ans:-** In Python, a constructor is a special method used to initialize a newly created object from a class. It is automatically called when you create an instance of a class.\n",
        "\n",
        "#Q10) What are class and static methods in Python?\n",
        "**Ans:-**Class Method: A class method is defined using the @classmethod decorator and takes the class itself as its first argument, conventionally named cls.\n",
        "\n",
        "Static Method:A static method is defined using the @staticmethod decorator and does not take self (instance) or cls (class) as its first argument. It behaves like a regular function but is logically grouped within the class.\n",
        "\n",
        "#Q11)  What is method overloading in Python?\n",
        "**Ans:-** Method overloading in Python refers to the concept of having multiple methods with the same name within a single class, but with different parameters.\n",
        "\n",
        "#Q12) What is method overriding in OOP?\n",
        "**Ans:-** Method overriding in OOP is when a subclass provides its own specific implementation of a method that already exists in its parent class, using the exact same method name, return type, and parameters.\n",
        "\n",
        "#Q13) What is a property decorator in Python?\n",
        "**Ans:-** In Python, the property decorator is a built-in feature that allows to define methods within a class that can be accessed like attributes. It essentially transforms a method into a \"managed attribute,\" providing a clean and Pythonic way to control how class attributes are accessed, modified, and deleted.\n",
        "\n",
        "#Q14) Why is polymorphism important in OOP?\n",
        "**Ans:-** Polymorphism is important in OOP because it enables code reusability, flexibility, and maintainability by allowing objects of different types to be treated as objects of a common type.\n",
        "\n",
        "#Q15)  What is an abstract class in Python?\n",
        "**Ans:-** An abstract class in Python is a class that cannot be instantiated on its own and is meant to serve as a blueprint for other classes.\n",
        "\n",
        "#Q16) What are the advantages of OOP?\n",
        "**Ans:-**  OOP offers several advantages, including improved code organization, reusability, and maintainability. It allows for better modeling of real-world scenarios, easier troubleshooting, and enhanced security through encapsulation. Additionally, OOP promotes flexibility and scalability in software development.\n",
        "\n",
        "#Q17) What is the difference between a class variable and an instance variable?\n",
        "**Ans:-**n Python, the key difference between a class variable and an instance variable lies in how they are shared and accessed across objects. An instance variable is specific to each object created from a class. It is defined inside the constructor using self, meaning each object gets its own copy of that variable. On the other hand, a class variable is shared among all instances of the class. It is defined directly within the class body, outside of any methods, and is the same for every object.\n",
        "\n",
        "#Q18) What is multiple inheritance in Python?\n",
        "**Ans:-** Multiple inheritance in Python is a feature that allows a class to inherit attributes and methods from more than one parent class. This means a single child class can be derived from two or more base classes, combining their functionalities.\n",
        "\n",
        "#Q19) Explain the purpose of ‘'__str__' and '__repr__'’  methods in Python.\n",
        "**Ans:-** In Python, the '_ _str__' and '__repr__' methods are special methods used to define how an object should be represented as a string. The __str__ method is meant to return a user-friendly and readable string representation of the object, which is used when you print the object or convert it to a string using str(). On the other hand, the __repr__ method is designed for developers and debugging purposes. It returns a more detailed and unambiguous string representation.   \n",
        "\n",
        "#Q20)  What is the significance of the ‘super()’ function in Python?\n",
        "**Ans:-**The super() function in Python holds significant importance in the context of object-oriented programming, particularly concerning inheritance. Its primary significance lies in facilitating the interaction between a subclass and its parent (or super) class.\n",
        "\n",
        "#Q21) What is the significance of the __del__ method in Python?\n",
        "**Ans:-**The __del__ method in Python is a destructor used to clean up resources when an object is deleted. It is called automatically when the object is about to be destroyed, but its timing is unpredictable. Due to this, it's better to use context managers with statement for reliable resource management.\n",
        "\n",
        "#Q22) What is the difference between @staticmethod and @classmethod in Python?\n",
        "**Ans:-**In Python, @staticmethod defines a method that does not access or modify the class or instance and behaves like a regular function within a class. It doesn't take self or cls as its first argument. In contrast, @classmethod takes cls as its first argument, allowing it to access or modify class-level attributes and methods. While both can be called on the class itself, @classmethod is aware of the class context, whereas @staticmethod is not aware of the class context.\n",
        "\n",
        "#Q23) How does polymorphism work in Python with inheritance?\n",
        "**Ans:-**Polymorphism in Python with inheritance allows objects of different subclasses to be treated as objects of a common superclass, enabling the same method name to behave differently based on the object's class. When a method is defined in a base class and overridden in derived classes, calling that method on different subclass instances will invoke the version specific to the subclass. This promotes flexibility and code reuse, as it allows writing general code that works with any subclass without knowing its exact type.\n",
        "\n",
        "#Q24) What is method chaining in Python OOP?\n",
        "**Ans:-**Method chaining in Python OOP is a technique where multiple method calls are invoked sequentially on the same object in a single line of code. This is achieved by having each method return the object itself or a modified version of it after performing its operation.\n",
        "\n",
        "#Q25) What is the purpose of the __call__ method in Python?\n",
        "**Ans:-** he __call__ method in Python allows an instance of a class to be called like a function. When defined in a class, it lets us use the object with parentheses—obj()—which internally invokes obj.__call__()."
      ],
      "metadata": {
        "id": "ZLW1IJR-DSV9"
      }
    },
    {
      "cell_type": "code",
      "source": [
        "#Q1 Create a parent class Animal with a method speak() that prints a generic message. Create a child class Dog that overrides the speak() method to print \"Bark!\".\n",
        "\n",
        "class Animal:\n",
        "    def speak(self):\n",
        "        print(\"Generic animal sound\")\n",
        "class Dog(Animal):\n",
        "    def speak(self):\n",
        "        print(\"Bark!\")\n",
        "animal = Animal()\n",
        "animal.speak()\n",
        "dog = Dog()\n",
        "dog.speak()"
      ],
      "metadata": {
        "colab": {
          "base_uri": "https://localhost:8080/"
        },
        "id": "7xdeCWDPERhB",
        "outputId": "36b41dfb-8576-4f37-cb30-5456a42ede9f"
      },
      "execution_count": 6,
      "outputs": [
        {
          "output_type": "stream",
          "name": "stdout",
          "text": [
            "Generic animal sound\n",
            "Bark!\n"
          ]
        }
      ]
    },
    {
      "cell_type": "code",
      "source": [
        "#Q2 Write a program to create an abstract class Shape with a method area(). Derive classes Circle and Rectangle from it and implement the area() method in both.\n",
        "\n",
        "from abc import ABC, abstractmethod\n",
        "import math\n",
        "class Shape(ABC):\n",
        "    @abstractmethod\n",
        "    def area(self):\n",
        "        pass\n",
        "class Circle(Shape):\n",
        "    def __init__(self, radius):\n",
        "        self.radius = radius\n",
        "    def area(self):\n",
        "        return math.pi * self.radius**2\n",
        "class Rectangle(Shape):\n",
        "    def __init__(self, length, width):\n",
        "        self.length = length\n",
        "        self.width = width\n",
        "    def area(self):\n",
        "        return self.length * self.width\n",
        "circle = Circle(7)\n",
        "print(f\"Area of Circle: {circle.area()}\")\n",
        "rectangle = Rectangle(4, 6)\n",
        "print(f\"Area of Rectangle: {rectangle.area()}\")"
      ],
      "metadata": {
        "colab": {
          "base_uri": "https://localhost:8080/"
        },
        "id": "bVu45YFGEfLz",
        "outputId": "376896bb-3676-4dae-d95c-e0ffb8776108"
      },
      "execution_count": 8,
      "outputs": [
        {
          "output_type": "stream",
          "name": "stdout",
          "text": [
            "Area of Circle: 153.93804002589985\n",
            "Area of Rectangle: 24\n"
          ]
        }
      ]
    },
    {
      "cell_type": "code",
      "source": [
        "#Q3 Implement a multi-level inheritance scenario where a class Vehicle has an attribute type. Derive a class Car and further derive a class ElectricCar that adds a battery attribute.\n",
        "\n",
        "class Vehicle:\n",
        "    def __init__(self, vehicle_type):\n",
        "        self.type = vehicle_type\n",
        "    def display_type(self):\n",
        "        print(f\"Vehicle type: {self.type}\")\n",
        "class Car(Vehicle):\n",
        "    def __init__(self, vehicle_type, model):\n",
        "        super().__init__(vehicle_type)\n",
        "        self.model = model\n",
        "    def display_model(self):\n",
        "        print(f\"Car model: {self.model}\")\n",
        "class ElectricCar(Car):\n",
        "    def __init__(self, vehicle_type, model, battery_capacity):\n",
        "        super().__init__(vehicle_type, model)\n",
        "        self.battery = battery_capacity\n",
        "    def display_battery(self):\n",
        "        print(f\"Battery capacity: {self.battery} kWh\")\n",
        "my_electric_car = ElectricCar(\"Electric Car\", \"Mahindra XEV 9e\", 75)\n",
        "my_electric_car.display_type()\n",
        "my_electric_car.display_model()\n",
        "my_electric_car.display_battery()"
      ],
      "metadata": {
        "colab": {
          "base_uri": "https://localhost:8080/"
        },
        "id": "LGGx1Ev2Ft9G",
        "outputId": "083a60a5-a373-4a45-d0a9-9d39ec68a8a8"
      },
      "execution_count": 11,
      "outputs": [
        {
          "output_type": "stream",
          "name": "stdout",
          "text": [
            "Vehicle type: Electric Car\n",
            "Car model: Mahindra XEV 9e\n",
            "Battery capacity: 75 kWh\n"
          ]
        }
      ]
    },
    {
      "cell_type": "code",
      "source": [
        "#Q4 Demonstrate polymorphism by creating a base class Bird with a method fly(). Create two derived classesSparrow and Penguin that override the fly() method.\n",
        "\n",
        "class Bird:\n",
        "    def fly(self):\n",
        "        print(\"Most birds can fly\")\n",
        "class Sparrow(Bird):\n",
        "    def fly(self):\n",
        "        print(\"Sparrows fly short distances\")\n",
        "class Penguin(Bird):\n",
        "    def fly(self):\n",
        "        print(\"Penguins cannot fly\")\n",
        "def make_bird_fly(bird):\n",
        "    bird.fly()\n",
        "bird = Bird()\n",
        "sparrow = Sparrow()\n",
        "penguin = Penguin()\n",
        "make_bird_fly(bird)\n",
        "make_bird_fly(sparrow)\n",
        "make_bird_fly(penguin)"
      ],
      "metadata": {
        "colab": {
          "base_uri": "https://localhost:8080/"
        },
        "id": "2JE2ofVLGh-T",
        "outputId": "426b4585-cad8-4f83-dafe-cba2f08d8cb9"
      },
      "execution_count": 13,
      "outputs": [
        {
          "output_type": "stream",
          "name": "stdout",
          "text": [
            "Most birds can fly\n",
            "Sparrows fly short distances\n",
            "Penguins cannot fly\n"
          ]
        }
      ]
    },
    {
      "cell_type": "code",
      "source": [
        "#Q5  Write a program to demonstrate encapsulation by creating a class BankAccount with private attributes balance and methods to deposit, withdraw, and check balance.\n",
        "\n",
        "class BankAccount:\n",
        "    def __init__(self, initial_balance=0):\n",
        "        self.__balance = initial_balance\n",
        "    def deposit(self, amount):\n",
        "        if amount > 0:\n",
        "            self.__balance += amount\n",
        "            print(f\"Deposited: Rs{amount}. New balance: Rs{self.__balance}\")\n",
        "        else:\n",
        "            print(\"Deposit amount must be positive.\")\n",
        "    def withdraw(self, amount):\n",
        "        if amount > 0:\n",
        "            if self.__balance >= amount:\n",
        "                self.__balance -= amount\n",
        "                print(f\"Withdrew: Rs{amount}. New balance: Rs{self.__balance}\")\n",
        "            else:\n",
        "                print(\"Insufficient funds.\")\n",
        "        else:\n",
        "            print(\"Withdrawal amount must be positive.\")\n",
        "    def get_balance(self):\n",
        "        return self.__balance\n",
        "account = BankAccount(1000)\n",
        "account.deposit(500)\n",
        "account.withdraw(200)\n",
        "account.withdraw(1500)\n",
        "print(f\"Current balance: Rs{account.get_balance()}\")"
      ],
      "metadata": {
        "colab": {
          "base_uri": "https://localhost:8080/"
        },
        "id": "XyOEITGyH-M3",
        "outputId": "d8b4763a-95d3-4ba7-b64d-060d96e4b890"
      },
      "execution_count": 14,
      "outputs": [
        {
          "output_type": "stream",
          "name": "stdout",
          "text": [
            "Deposited: Rs500. New balance: Rs1500\n",
            "Withdrew: Rs200. New balance: Rs1300\n",
            "Insufficient funds.\n",
            "Current balance: Rs1300\n"
          ]
        }
      ]
    },
    {
      "cell_type": "code",
      "source": [
        "#Q6 Demonstrate runtime polymorphism using a method play() in a base class Instrument. Derive classes Guitar and Piano that implement their own version of play()\n",
        "\n",
        "class Instrument:\n",
        "    def play(self):\n",
        "        print(\"Playing an instrument\")\n",
        "class Guitar(Instrument):\n",
        "    def play(self):\n",
        "        print(\"Playing the guitar\")\n",
        "class Piano(Instrument):\n",
        "    def play(self):\n",
        "        print(\"Playing the piano \")\n",
        "def make_instrument_play(instrument):\n",
        "    instrument.play()\n",
        "instrument = Instrument()\n",
        "guitar = Guitar()\n",
        "piano = Piano()\n",
        "make_instrument_play(instrument)\n",
        "make_instrument_play(guitar)\n",
        "make_instrument_play(piano)"
      ],
      "metadata": {
        "colab": {
          "base_uri": "https://localhost:8080/"
        },
        "id": "Qq42Jm8IJAz-",
        "outputId": "ab8b7743-d935-4e25-9f30-5b5ee5855572"
      },
      "execution_count": 16,
      "outputs": [
        {
          "output_type": "stream",
          "name": "stdout",
          "text": [
            "Playing an instrument\n",
            "Playing the guitar\n",
            "Playing the piano \n"
          ]
        }
      ]
    },
    {
      "cell_type": "code",
      "source": [
        "#Q7  Create a class MathOperations with a class method add_numbers() to add two numbers and a static method subtract_numbers() to subtract two numbers.\n",
        "\n",
        "class MathOperations:\n",
        "    @classmethod\n",
        "    def add_numbers(cls, num1, num2):\n",
        "        \"\"\"Adds two numbers using a class method.\"\"\"\n",
        "        return num1 + num2\n",
        "    @staticmethod\n",
        "    def subtract_numbers(num1, num2):\n",
        "        \"\"\"Subtracts two numbers using a static method.\"\"\"\n",
        "        return num1 - num2\n",
        "result_add = MathOperations.add_numbers(10, 5)\n",
        "print(f\"Addition result: {result_add}\")\n",
        "result_subtract = MathOperations.subtract_numbers(10, 5)\n",
        "print(f\"Subtraction result: {result_subtract}\")"
      ],
      "metadata": {
        "colab": {
          "base_uri": "https://localhost:8080/"
        },
        "id": "VQ4dTOSoKVZW",
        "outputId": "cd5cc10d-35ea-4087-d2d2-ea3563df8135"
      },
      "execution_count": 17,
      "outputs": [
        {
          "output_type": "stream",
          "name": "stdout",
          "text": [
            "Addition result: 15\n",
            "Subtraction result: 5\n"
          ]
        }
      ]
    },
    {
      "cell_type": "code",
      "source": [
        "#Q8 Implement a class Person with a class method to count the total number of persons created.\n",
        "\n",
        "class Person:\n",
        "    total_persons = 0\n",
        "    def __init__(self, name):\n",
        "        self.name = name\n",
        "        Person.total_persons += 1\n",
        "    @classmethod\n",
        "    def count_persons(cls):\n",
        "        \"\"\"Class method to return the total number of Person instances created.\"\"\"\n",
        "        return cls.total_persons\n",
        "person1 = Person(\"Ram\")\n",
        "person2 = Person(\"Mohan\")\n",
        "person3 = Person(\"Rohan\")\n",
        "person4 = Person(\"Manjeet\")\n",
        "print(f\"Total number of persons created: {Person.count_persons()}\")"
      ],
      "metadata": {
        "colab": {
          "base_uri": "https://localhost:8080/"
        },
        "id": "7X5EjEbaKxE_",
        "outputId": "7c207d47-ef33-4b0b-ca1b-b94896da69c8"
      },
      "execution_count": 20,
      "outputs": [
        {
          "output_type": "stream",
          "name": "stdout",
          "text": [
            "Total number of persons created: 4\n"
          ]
        }
      ]
    },
    {
      "cell_type": "code",
      "source": [
        "#Q9 Write a class Fraction with attributes numerator and denominator. Override the str method to display the fraction as \"numerator/denominator\".\n",
        "\n",
        "class Fraction:\n",
        "    def __init__(self, numerator, denominator):\n",
        "        self.numerator = numerator\n",
        "        self.denominator = denominator\n",
        "    def __str__(self):\n",
        "        return f\"{self.numerator}/{self.denominator}\"\n",
        "fraction1 = Fraction(3, 4)\n",
        "print(fraction1)\n",
        "fraction2 = Fraction(7, 2)\n",
        "print(fraction2)"
      ],
      "metadata": {
        "colab": {
          "base_uri": "https://localhost:8080/"
        },
        "id": "kVx6y4-5LfBp",
        "outputId": "ecf6b2fc-7f7f-416a-af96-241a8549307e"
      },
      "execution_count": 23,
      "outputs": [
        {
          "output_type": "stream",
          "name": "stdout",
          "text": [
            "3/4\n",
            "7/2\n"
          ]
        }
      ]
    },
    {
      "cell_type": "code",
      "source": [
        "#Q10  Demonstrate operator overloading by creating a class Vector and overriding the add method to add two vectors.\n",
        "\n",
        "class Vector:\n",
        "    def __init__(self, x, y):\n",
        "        \"\"\"Initializes a Vector object with x and y components.\"\"\"\n",
        "        self.x = x\n",
        "        self.y = y\n",
        "    def __str__(self):\n",
        "        \"\"\"Overrides the string representation to display the vector.\"\"\"\n",
        "        return f\"Vector({self.x}, {self.y})\"\n",
        "    def __add__(self, other):\n",
        "        \"\"\"Overrides the addition operator (+) to add two vectors.\"\"\"\n",
        "        if not isinstance(other, Vector):\n",
        "            raise TypeError(\"Operand must be a Vector object\")\n",
        "        return Vector(self.x + other.x, self.y + other.y)\n",
        "vector1 = Vector(2, 3)\n",
        "vector2 = Vector(5, 1)\n",
        "vector3 = vector1 + vector2\n",
        "print(f\"{vector1} + {vector2} = {vector3}\")"
      ],
      "metadata": {
        "colab": {
          "base_uri": "https://localhost:8080/"
        },
        "id": "Zxmuq8WbMCQE",
        "outputId": "ffc4383c-b023-4565-8394-c49c58063663"
      },
      "execution_count": 29,
      "outputs": [
        {
          "output_type": "stream",
          "name": "stdout",
          "text": [
            "Vector(2, 3) + Vector(5, 1) = Vector(7, 4)\n"
          ]
        }
      ]
    },
    {
      "cell_type": "code",
      "source": [
        "#Q11  Create a class Person with attributes name and age. Add a method greet() that prints \"Hello, my name is {name} and I am {age} years old.\"\n",
        "\n",
        "class Person:\n",
        "  def __init__(self, name, age):\n",
        "    self.name = name\n",
        "    self.age = age\n",
        "  def greet(self):\n",
        "    print(f\"Hello, my name is {self.name} and I am {self.age} years old.\")\n",
        "p1 = Person(\"Manjeet\", 24)\n",
        "p1.greet()"
      ],
      "metadata": {
        "colab": {
          "base_uri": "https://localhost:8080/"
        },
        "id": "7n15j4FVMZYP",
        "outputId": "9d30f6cc-846d-4486-81f8-2e422d518f7b"
      },
      "execution_count": 31,
      "outputs": [
        {
          "output_type": "stream",
          "name": "stdout",
          "text": [
            "Hello, my name is Manjeet and I am 24 years old.\n"
          ]
        }
      ]
    },
    {
      "cell_type": "code",
      "source": [
        "#Q12 Implement a class Student with attributes name and grades. Create a method average_grade() to compute the average of the grades\n",
        "\n",
        "class Student:\n",
        "    def __init__(self, name, grades):\n",
        "        self.name = name\n",
        "        self.grades = grades\n",
        "    def average_grade(self):\n",
        "        if not self.grades:\n",
        "            return 0\n",
        "        return sum(self.grades) / len(self.grades)\n",
        "student1 = Student(\"Mohan\", [85, 90, 78, 92])\n",
        "print(f\"{student1.name}'s average grade is: {student1.average_grade()}\")\n",
        "student2 = Student(\"Manjeet\", [70, 65, 88, 75, 95])\n",
        "print(f\"{student2.name}'s average grade is: {student2.average_grade()}\")\n",
        "student3 = Student(\"Ram\", [])\n",
        "print(f\"{student3.name}'s average grade is: {student3.average_grade()}\")"
      ],
      "metadata": {
        "colab": {
          "base_uri": "https://localhost:8080/"
        },
        "id": "DT9pLZ_4OHTU",
        "outputId": "c1e94f26-a243-48b8-df58-1caa12dadb15"
      },
      "execution_count": 34,
      "outputs": [
        {
          "output_type": "stream",
          "name": "stdout",
          "text": [
            "Mohan's average grade is: 86.25\n",
            "Manjeet's average grade is: 78.6\n",
            "Ram's average grade is: 0\n"
          ]
        }
      ]
    },
    {
      "cell_type": "code",
      "source": [
        "#Q13 Create a class Rectangle with methods set_dimensions() to set the dimensions and area() to calculate the area.\n",
        "\n",
        "class Rectangle:\n",
        "    def __init__(self):\n",
        "        self.length = 0\n",
        "        self.width = 0\n",
        "    def set_dimensions(self, length, width):\n",
        "        self.length = length\n",
        "        self.width = width\n",
        "    def area(self):\n",
        "        return self.length * self.width\n",
        "my_rectangle = Rectangle()\n",
        "my_rectangle.set_dimensions(10, 5)\n",
        "print(f\"The area of the rectangle is: {my_rectangle.area()}\")\n",
        "my_rectangle.set_dimensions(7, 3)\n",
        "print(f\"The area of the rectangle is: {my_rectangle.area()}\")"
      ],
      "metadata": {
        "colab": {
          "base_uri": "https://localhost:8080/"
        },
        "id": "VwXXWX2HOw2x",
        "outputId": "aa96870a-d40d-4529-bc3e-30e5401943a0"
      },
      "execution_count": 37,
      "outputs": [
        {
          "output_type": "stream",
          "name": "stdout",
          "text": [
            "The area of the rectangle is: 50\n",
            "The area of the rectangle is: 21\n"
          ]
        }
      ]
    },
    {
      "cell_type": "code",
      "source": [
        "#Q14 Create a class Employee with a method calculate_salary() that computes the salary based on hours worked and hourly rate. Create a derived class Manager that adds a bonus to the salary.\n",
        "\n",
        "\n",
        "class Employee:\n",
        "    def __init__(self, name, hourly_rate):\n",
        "        self.name = name\n",
        "        self.hourly_rate = hourly_rate\n",
        "    def calculate_salary(self, hours_worked):\n",
        "        return hours_worked * self.hourly_rate\n",
        "class Manager(Employee):\n",
        "    def __init__(self, name, hourly_rate, bonus):\n",
        "        super().__init__(name, hourly_rate)\n",
        "        self.bonus = bonus\n",
        "    def calculate_salary(self, hours_worked):\n",
        "        base_salary = super().calculate_salary(hours_worked)\n",
        "        return base_salary + self.bonus\n",
        "employee1 = Employee(\"Rajendra\", 20)\n",
        "print(f\"{employee1.name}'s salary for 40 hours is: Rs {employee1.calculate_salary(40)}\")\n",
        "manager1 = Manager(\"suresh\", 25, 500)\n",
        "print(f\"{manager1.name}'s salary for 40 hours is: RS {manager1.calculate_salary(40)}\")"
      ],
      "metadata": {
        "colab": {
          "base_uri": "https://localhost:8080/"
        },
        "id": "pD-wU0Y7PFAw",
        "outputId": "142db7f7-18df-4de1-cd3a-0e7f1c4a0d80"
      },
      "execution_count": 42,
      "outputs": [
        {
          "output_type": "stream",
          "name": "stdout",
          "text": [
            "Rajendra's salary for 40 hours is: Rs 800\n",
            "suresh's salary for 40 hours is: RS 1500\n"
          ]
        }
      ]
    },
    {
      "cell_type": "code",
      "source": [
        "#Q15 Create a class Product with attributes name, price, and quantity. Implement a method total_price() that calculates the total price of the product.\n",
        "\n",
        "class Product:\n",
        "    def __init__(self, name, price, quantity):\n",
        "        self.name = name\n",
        "        self.price = price\n",
        "        self.quantity = quantity\n",
        "    def total_price(self):\n",
        "        return self.price * self.quantity\n",
        "product1 = Product(\"Laptop\", 1200, 2)\n",
        "print(f\"The total price for {product1.name} is: Rs {product1.total_price()}\")\n",
        "product2 = Product(\"Mouse\", 25, 10)\n",
        "print(f\"The total price for {product2.name} is: Rs {product2.total_price()}\")"
      ],
      "metadata": {
        "colab": {
          "base_uri": "https://localhost:8080/"
        },
        "id": "mc-X5TYTQIQl",
        "outputId": "3e07775a-15ba-4e2e-a242-5f02fd2ed412"
      },
      "execution_count": 47,
      "outputs": [
        {
          "output_type": "stream",
          "name": "stdout",
          "text": [
            "The total price for Laptop is: Rs 2400\n",
            "The total price for Mouse is: Rs 250\n"
          ]
        }
      ]
    },
    {
      "cell_type": "code",
      "source": [
        "#Q16 Create a class Animal with an abstract method sound(). Create two derived classes Cow and Sheep that implement the sound() method.\n",
        "\n",
        "from abc import ABC, abstractmethod\n",
        "class Animal(ABC):\n",
        "    @abstractmethod\n",
        "    def sound(self):\n",
        "        pass\n",
        "class Cow(Animal):\n",
        "    def sound(self):\n",
        "        return \"Moo!\"\n",
        "class Sheep(Animal):\n",
        "    def sound(self):\n",
        "        return \"Baa!\"\n",
        "cow = Cow()\n",
        "print(f\"Cow says: {cow.sound()}\")\n",
        "sheep = Sheep()\n",
        "print(f\"Sheep says: {sheep.sound()}\")"
      ],
      "metadata": {
        "colab": {
          "base_uri": "https://localhost:8080/"
        },
        "id": "RLN4zqVJQqp7",
        "outputId": "53308acb-58c1-4e1e-dc6e-7f430e0421b3"
      },
      "execution_count": 48,
      "outputs": [
        {
          "output_type": "stream",
          "name": "stdout",
          "text": [
            "Cow says: Moo!\n",
            "Sheep says: Baa!\n"
          ]
        }
      ]
    },
    {
      "cell_type": "code",
      "source": [
        "#Q17 Create a class Book with attributes title, author, and year_published. Add a method get_book_info() that returns a formatted string with the book's details.\n",
        "\n",
        "class Book:\n",
        "    def __init__(self, title, author, year_published):\n",
        "        self.title = title\n",
        "        self.author = author\n",
        "        self.year_published = year_published\n",
        "    def get_book_info(self):\n",
        "        return f\"Title: {self.title}, Author: {self.author}, Year Published: {self.year_published}\"\n",
        "book1 = Book(\"Challenging Destiny A biography\", \"Medha Deshmukh Bhaskaran\", 2016)\n",
        "print(book1.get_book_info())\n",
        "book2 = Book(\"Surrounded by idiots\", \"Thomas erikson\", 2019)\n",
        "print(book2.get_book_info())"
      ],
      "metadata": {
        "colab": {
          "base_uri": "https://localhost:8080/"
        },
        "id": "liDvd4AuTM_4",
        "outputId": "5e487a92-ba9a-4001-b474-adb3ec68a905"
      },
      "execution_count": 50,
      "outputs": [
        {
          "output_type": "stream",
          "name": "stdout",
          "text": [
            "Title: Challenging Destiny A biography, Author: Medha Deshmukh Bhaskaran, Year Published: 2016\n",
            "Title: Surrounded by idiots, Author: Thomas erikson, Year Published: 2019\n"
          ]
        }
      ]
    },
    {
      "cell_type": "code",
      "source": [
        "#Q18  Create a class House with attributes address and price. Create a derived class Mansion that adds an attribute number_of_rooms.\n",
        "\n",
        "\n",
        "class House:\n",
        "    def __init__(self, address, price):\n",
        "        self.address = address\n",
        "        self.price = price\n",
        "    def display_info(self):\n",
        "        print(f\"Address: {self.address}\")\n",
        "        print(f\"Price: Rs {self.price}\")\n",
        "class Mansion(House):\n",
        "    def __init__(self, address, price, number_of_rooms):\n",
        "        super().__init__(address, price)\n",
        "        self.number_of_rooms = number_of_rooms\n",
        "    def display_info(self):\n",
        "        super().display_info()\n",
        "        print(f\"Number of Rooms: {self.number_of_rooms}\")\n",
        "my_house = House(\"124 Nvr Sunpearl\", 6000000)\n",
        "my_house.display_info()\n",
        "print(\"-\" * 20)\n",
        "my_mansion = Mansion(\"01 whitefield \", 11500000, 20)\n",
        "my_mansion.display_info()"
      ],
      "metadata": {
        "colab": {
          "base_uri": "https://localhost:8080/"
        },
        "id": "GNj-bySVVCye",
        "outputId": "d9cb02f0-3179-410b-ccd0-857c49e12e8a"
      },
      "execution_count": 54,
      "outputs": [
        {
          "output_type": "stream",
          "name": "stdout",
          "text": [
            "Address: 124 Nvr Sunpearl\n",
            "Price: Rs 6000000\n",
            "--------------------\n",
            "Address: 01 whitefield \n",
            "Price: Rs 11500000\n",
            "Number of Rooms: 20\n"
          ]
        }
      ]
    }
  ]
}