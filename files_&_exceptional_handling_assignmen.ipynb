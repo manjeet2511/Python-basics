{
  "nbformat": 4,
  "nbformat_minor": 0,
  "metadata": {
    "colab": {
      "provenance": []
    },
    "kernelspec": {
      "name": "python3",
      "display_name": "Python 3"
    },
    "language_info": {
      "name": "python"
    }
  },
  "cells": [
    {
      "cell_type": "markdown",
      "source": [
        "# Q1) What is the difference between interpreted and compiled languages?\n",
        "**Ans:-** Compiled Languages:\n",
        "In a compiled language, a program called a compiler translates the entire source code into machine-readable machine code (or an intermediate bytecode) before execution.\n",
        "This machine code is specific to the target hardware and operating system, once compiled, the resulting executable file can be run directly without the need for the original source code or a separate translation step.\n",
        "Examples: C, C++, Go.\n",
        "\n",
        "Interpreted Languages:\n",
        "In an interpreted language, a program called an interpreter reads and executes the source code line by line at runtime.\n",
        "There is no separate compilation step to produce a standalone executable.\n",
        "Each instruction is translated and executed as it is encountered.\n",
        "Examples: Python, JavaScript, Ruby.\n",
        "\n",
        "# Q2) What is exception handling in Python?**\n",
        "**Ans:-** Exception handling in Python is a mechanism that allows programs to gracefully manage and recover from runtime errors, known as exceptions, without abruptly terminating. Instead of crashing, the program can \"catch\" these exceptions and execute specific code to handle the error, log it, or provide a user-friendly message.\n",
        "\n",
        "# Q3) What is the purpose of the finally block in exception handling?\n",
        "**Ans:-** The primary purpose of a finally block is to ensure that a specific piece of code, known as cleanup code, executes regardless of whether an exception occurs in the try block or is caught by a catch block.\n",
        "\n",
        "# Q4) What is logging in Python?\n",
        "**Ans:-** Logging in Python is a way to track events that happen when program runs. Instead of using print() statements for debugging or monitoring, we use the logging module, which gives us more control and flexibility.\n",
        "\n",
        "# Q5) What is the significance of the __del__ method in Python?\n",
        "**Ans:-** The __del__ method in Python is a destructor — a special method that is called automatically when an object is about to be destroyed (i.e. when there are no more references to it).\n",
        "\n",
        "# Q6) What is the difference between import and from ... import in Python?\n",
        "**Ans:-** In Python, both import and from ... import are used to include code from external modules, but they differ in how the imported items are accessed. When we use the import statement, such as import math, you bring in the entire module, and any function or variable from that module must be accessed with the module name as a prefix (e.g., math.sqrt(16)). On the other hand, the from ... import statement, like from math import sqrt, imports specific components directly, allowing you to use them without the module name (e.g., sqrt(16)). While this can make code shorter and more readable, especially when we only need a few items, it also increases the risk of name collisions if different modules have items with the same name. Overall, import is safer for larger applications, while from ... import is convenient for quick access to specific functions or variables.\n",
        "\n",
        "# Q7) How can you handle multiple exceptions in Python?\n",
        "**Ans:-** In Python, we can handle multiple exceptions using either multiple except blocks or a single except block that handles multiple exception types. This allows our program to respond differently to different errors, or handle several error types in the same way.\n",
        "# Q8)  What is the purpose of the with statement when handling files in Python?\n",
        "**Ans:-** The with statement in Python is used when working with files to ensure that resources like file handles are properly managed and released, even if an error occurs during file operations. Its main purpose is to simplify file handling by automatically closing the file once the block of code is exited, whether the program exits normally or due to an exception.\n",
        "\n",
        "# Q9) What is the difference between multithreading and multiprocessing?\n",
        "**Ans:-** Multithreading:-\n",
        "\n",
        "Multithreading uses multiple threads within the same process to run tasks concurrently.\n",
        "\n",
        "Threads share memory and resources, making communication between them easier but also prone to issues like race conditions.\n",
        "\n",
        "In Python, due to the Global Interpreter Lock (GIL), only one thread executes Python bytecode at a time, which limits true parallelism.\n",
        "\n",
        "Multiprocessing:-\n",
        "\n",
        "Multiprocessing uses multiple separate processes, each with its own Python interpreter and memory space.\n",
        "\n",
        "This allows true parallel execution on multiple CPU cores, bypassing the GIL.\n",
        "\n",
        "Because processes do not share memory, communication is more complex.\n",
        "\n",
        "# Q10) What are the advantages of using logging in a program?\n",
        "**Ans:-** Using logging in a program provides several key advantages such as:\n",
        "1.Provides Different Levels of Severity.\n",
        "\n",
        "2.Writes Logs to Files or External Systems.\n",
        "\n",
        "3.Helps with Debugging and Monitoring.\n",
        "\n",
        "4.Flexible and Configurable.\n",
        "\n",
        "5.Improves Code Quality and Maintainability.\n",
        "\n",
        "# Q11) What is memory management in Python?\n",
        "**Ans:-** Memory management in Python refers to the way Python handles the allocation, usage, and recycling of memory while a program runs. Python manages memory automatically, so developers don’t usually need to manually allocate or free memory like in lower-level languages.\n",
        "\n",
        "\n",
        "# Q12) What are the basic steps involved in exception handling in Python?\n",
        "**Ans:-** The basic steps involved in exception handling in Python are:\n",
        "\n",
        "Identify the risky code\n",
        "\n",
        "Catch exceptions\n",
        "\n",
        "Optional else block\n",
        "\n",
        "Optional finally block.\n",
        "\n",
        "\n",
        "# Q13) Why is memory management important in Python?\n",
        "**Ans:-** Memory management is important in Python because it ensures that our program uses system memory efficiently and safely, which directly impacts performance, stability, and resource utilization. Proper memory management helps prevent issues like memory leaks, where unused objects remain in memory unnecessarily, causing the program to consume more RAM over time and potentially crash or slow down the system.\n",
        "# Q14) What is the role of try and except in exception handling?\n",
        "**Ans:-** The try and except blocks are the core components of exception handling in Python. The try block contains the code that might raise an exception — it’s where you \"try\" to execute potentially error-prone operations. If everything runs smoothly, the code in the try block completes without interruption.\n",
        "\n",
        "If an error occurs inside the try block, Python immediately stops executing that block and looks for a matching except block to handle the exception. The except block catches the specific type(s) of exceptions you specify and defines how to respond to them, such as logging an error message, recovering from the issue, or cleaning up resources.\n",
        "\n",
        "# Q15) How does Python's garbage collection system work?\n",
        "**Ans:-** Python’s garbage collection system primarily uses reference counting combined with a cyclic garbage collector to manage memory automatically and free up unused objects.\n",
        "\n",
        "Here’s how it works:\n",
        "\n",
        "Reference Counting:\n",
        "Every object in Python maintains a count of how many references point to it. When a new reference to the object is created, the count increases; when a reference is deleted or goes out of scope, the count decreases. When an object’s reference count drops to zero, meaning nothing in the program is using it, Python immediately frees the memory occupied by that object.\n",
        "\n",
        "Cyclic Garbage Collector:\n",
        "Reference counting alone can’t handle reference cycles—where two or more objects reference each other but are otherwise unreachable from the program. To detect and clean up these cycles, Python has a cyclic garbage collector that periodically searches for groups of objects involved in such cycles and frees them if they are no longer accessible.\n",
        "\n",
        "Generations:\n",
        "The cyclic garbage collector organizes objects into generations based on their lifespan. Younger generations are collected more frequently because most objects die young, which improves performance by focusing effort where it’s most needed.\n",
        "\n",
        "# Q16) What is the purpose of the else block in exception handling?\n",
        "**Ans:-** The else block in Python’s exception handling is an optional part that runs only if no exceptions were raised in the preceding try block. Its main purpose is to separate the code that should execute when everything goes smoothly from the code that handles exceptions.\n",
        "\n",
        "# Q17) What are the common logging levels in Python?\n",
        "**Ans:-** In Python’s logging module, there are several standard logging levels that indicate the severity or importance of the messages being logged. The common logging levels, from lowest to highest severity, are:\n",
        "\n",
        "DEBUG (Level 10)\n",
        "Detailed information, typically of interest only when diagnosing problems.\n",
        "\n",
        "INFO (Level 20)\n",
        "General events or confirmations that things are working as expected.\n",
        "\n",
        "WARNING (Level 30)\n",
        "An indication that something unexpected happened or might cause problems in the future, but the program is still running.\n",
        "\n",
        "ERROR (Level 40)\n",
        "A serious problem that caused a part of the program to fail.\n",
        "\n",
        "CRITICAL (Level 50)\n",
        "A very severe error indicating that the program itself may be unable to continue running.\n",
        "\n",
        "\n",
        "# Q18) What is the difference between os.fork() and multiprocessing in Python?\n",
        "**Ans:-** os.fork() is a low-level, Unix-specific tool for process creation that requires manual management.\n",
        "multiprocessing is a high-level, cross-platform module that simplifies process management and offers robust tools for concurrent programming in Python. For most Python applications requiring multiprocessing, the multiprocessing module is the preferred and more robust choice due to its portability and features.\n",
        "\n",
        "# Q19) What is the importance of closing a file in Python?\n",
        "**Ans:-** Closing a file in Python is important because it releases the system resources associated with the file, such as file descriptors, and ensures that any data buffered in memory is properly written (flushed) to disk.\n",
        "\n",
        "# Q20) What is the difference between file.read() and file.readline() in Python?\n",
        "**Ans:-**\n",
        "file.read() reads the entire content of the file (or a specified number of bytes if an argument is given) at once and returns it as a single string. This is useful when you want to process or load the whole file in one go.\n",
        "\n",
        "file.readline() reads one line at a time from the file, returning the next line each time it’s called (including the newline character at the end). This is handy when you want to process a file line by line, especially for large files where reading everything at once might use too much memory.\n",
        "\n",
        "# Q21)  What is the logging module in Python used for?\n",
        "**Ans:-** The logging module in Python is used for tracking events that happen when software runs. It provides a flexible framework for emitting log messages from Python programs, which helps developers record information about the program’s execution, such as errors, warnings, or general status updates.\n",
        "\n",
        "# Q22)  What is the os module in Python used for in file handling?\n",
        "**Ans:-** The os module in Python provides a way to interact with the operating system, and when it comes to file handling, it offers a variety of functions to perform low-level operations on files and directories beyond simple reading and writing. This includes tasks like creating, removing, renaming, and checking the existence of files or directories, manipulating file paths, changing permissions, and more.\n",
        "\n",
        "# Q23)  What are the challenges associated with memory management in Python?\n",
        "**Ans:-** while Python simplifies memory management, developers must still be aware of these challenges—especially in large, long-running, or memory-intensive applications—to write efficient and robust programs.\n",
        "\n",
        "# Q24)  How do you raise an exception manually in Python?\n",
        "**Ans:-** We can manually raise an exception in Python using the raise statement followed by an exception class or an instance of an exception. This allows us to trigger errors intentionally when certain conditions occur in our code.\n",
        "\n",
        "#  Q25)  Why is it important to use multithreading in certain applications?\n",
        "**Ans:-** Multithreading helps improve application responsiveness and efficiency in programs with concurrent or I/O-heavy workloads.\n"
      ],
      "metadata": {
        "id": "Fpc9AaHmOKVG"
      }
    },
    {
      "cell_type": "code",
      "source": [
        "#Q1  How can you open a file for writing in Python and write a string to it?\n",
        "\n",
        "# Open a file in write mode ('w'). This will create the file if it doesn't exist, or overwrite the file if it does exist.\n",
        "with open(\"my_file.txt\", \"w\") as file:\n",
        "# now write a string to the file\n",
        "    file.write(\"Hello, this is a string that will be written to the file.\")\n",
        "\n",
        "print(\"String has been written to 'my_file.txt'\")"
      ],
      "metadata": {
        "colab": {
          "base_uri": "https://localhost:8080/"
        },
        "id": "r6hB4N9sccV0",
        "outputId": "9584116b-0f63-4b0e-844f-9522bac08c00"
      },
      "execution_count": null,
      "outputs": [
        {
          "output_type": "stream",
          "name": "stdout",
          "text": [
            "String has been written to 'my_file.txt'\n"
          ]
        }
      ]
    },
    {
      "cell_type": "code",
      "source": [
        "#Q2 Write a Python program to read the contents of a file and print each line.\n",
        "\n",
        "with open(\"my_file.txt\", \"r\") as file:\n",
        "    for line in file:\n",
        "        print(line, end='')"
      ],
      "metadata": {
        "colab": {
          "base_uri": "https://localhost:8080/"
        },
        "id": "2MGfEFsvd_Xv",
        "outputId": "96e3fb02-cdf2-41dd-e964-5c9575ff5fd6"
      },
      "execution_count": null,
      "outputs": [
        {
          "output_type": "stream",
          "name": "stdout",
          "text": [
            "Hello, this is a string that will be written to the file."
          ]
        }
      ]
    },
    {
      "cell_type": "code",
      "source": [
        "#Q3  How would you handle a case where the file doesn't exist while trying to open it for reading?\n",
        "\n",
        "try:\n",
        "    with open(\"non_existent_file.txt\", \"r\") as file:\n",
        "        for line in file:\n",
        "            print(line, end='')\n",
        "except FileNotFoundError:\n",
        "    print(\"Error: The file was not found.\")"
      ],
      "metadata": {
        "colab": {
          "base_uri": "https://localhost:8080/"
        },
        "id": "6WYA63sxW5r3",
        "outputId": "b31aa0a2-87a2-4066-d261-cf6e81e1738b"
      },
      "execution_count": null,
      "outputs": [
        {
          "output_type": "stream",
          "name": "stdout",
          "text": [
            "Error: The file was not found.\n"
          ]
        }
      ]
    },
    {
      "cell_type": "code",
      "source": [
        "#Q4  Write a Python script that reads from one file and writes its content to another file.\n",
        "try:\n",
        "    with open(\"my_file.txt\", \"r\") as source_file:\n",
        "        content = source_file.read()\n",
        "    with open(\"my_copied_file.txt\", \"w\") as destination_file:\n",
        "        destination_file.write(content)\n",
        "    print(\"Content successfully copied from 'my_file.txt' to 'my_copied_file.txt'\")\n",
        "except FileNotFoundError:\n",
        "    print(\"Error: The source file 'my_file.txt' was not found.\")\n",
        "except Exception as e:\n",
        "    print(f\"An error occurred: {e}\")"
      ],
      "metadata": {
        "colab": {
          "base_uri": "https://localhost:8080/"
        },
        "id": "Ej0_IsNOXJ0p",
        "outputId": "9f32cb9a-0302-4334-8eaa-bdafb37e5dcf"
      },
      "execution_count": null,
      "outputs": [
        {
          "output_type": "stream",
          "name": "stdout",
          "text": [
            "Error: The source file 'my_file.txt' was not found.\n"
          ]
        }
      ]
    },
    {
      "cell_type": "code",
      "source": [
        "#Q5 How would you catch and handle division by zero error in Python.\n",
        "\n",
        "try:\n",
        "    numerator = 10\n",
        "    denominator = 0\n",
        "    result = numerator / denominator\n",
        "    print(result)\n",
        "except ZeroDivisionError:\n",
        "    print(\"Error: Cannot divide by zero.\")"
      ],
      "metadata": {
        "colab": {
          "base_uri": "https://localhost:8080/"
        },
        "id": "JdWZhDqhYItc",
        "outputId": "300f78aa-c318-463e-c116-5ca1d8740b06"
      },
      "execution_count": null,
      "outputs": [
        {
          "output_type": "stream",
          "name": "stdout",
          "text": [
            "Error: Cannot divide by zero.\n"
          ]
        }
      ]
    },
    {
      "cell_type": "code",
      "source": [
        "#Q6  Write a Python program that logs an error message to a log file when a division by zero exception occurs.\n",
        "\n",
        "import logging\n",
        "logging.basicConfig(filename='error.log', level=logging.ERROR, format='%(asctime)s:%(levelname)s:%(message)s')\n",
        "try:\n",
        "    numerator = 10\n",
        "    denominator = 0\n",
        "    result = numerator / denominator\n",
        "    print(result)\n",
        "except ZeroDivisionError:\n",
        "    logging.error(\"Division by zero occurred.\")\n",
        "    print(\"An error occurred and has been logged.\")"
      ],
      "metadata": {
        "colab": {
          "base_uri": "https://localhost:8080/"
        },
        "id": "jQyP0ExJY97V",
        "outputId": "3d37ab38-2cf5-48dc-ef25-be4e1e8352f6"
      },
      "execution_count": null,
      "outputs": [
        {
          "output_type": "stream",
          "name": "stderr",
          "text": [
            "ERROR:root:Division by zero occurred.\n"
          ]
        },
        {
          "output_type": "stream",
          "name": "stdout",
          "text": [
            "An error occurred and has been logged.\n"
          ]
        }
      ]
    },
    {
      "cell_type": "code",
      "source": [
        "#Q7  How do you log information at different levels (INFO, ERROR, WARNING) in Python using the logging module.\n",
        "\n",
        "import logging\n",
        "logging.basicConfig(level=logging.INFO, format='%(asctime)s:%(levelname)s:%(message)s')\n",
        "logging.debug(\"This is a debug message.\")\n",
        "logging.info(\"This is an info message.\")\n",
        "logging.warning(\"This is a warning message.\")\n",
        "logging.error(\"This is an error message.\")\n",
        "logging.critical(\"This is a critical message.\")"
      ],
      "metadata": {
        "colab": {
          "base_uri": "https://localhost:8080/"
        },
        "id": "1d9jDRWGbwon",
        "outputId": "4758d290-8643-4dbd-9f11-09d21997e5e8"
      },
      "execution_count": null,
      "outputs": [
        {
          "output_type": "stream",
          "name": "stderr",
          "text": [
            "WARNING:root:This is a warning message.\n",
            "ERROR:root:This is an error message.\n",
            "CRITICAL:root:This is a critical message.\n"
          ]
        }
      ]
    },
    {
      "cell_type": "code",
      "source": [
        "#Q8  Write a program to handle a file opening error using exception handling.\n",
        "\n",
        "\n",
        "try:\n",
        "    with open(\"non_existent_file.txt\", \"r\") as file:\n",
        "        content = file.read()\n",
        "        print(content)\n",
        "except FileNotFoundError:\n",
        "    print(\"Error: The file could not be opened because it was not found.\")\n",
        "except Exception as e:\n",
        "    # Handle any other potential errors\n",
        "    print(f\"An error occurred: {e}\")"
      ],
      "metadata": {
        "colab": {
          "base_uri": "https://localhost:8080/"
        },
        "id": "sdpGLQjjeyRd",
        "outputId": "c3097723-5e15-4638-9d66-9fee8b87c507"
      },
      "execution_count": null,
      "outputs": [
        {
          "output_type": "stream",
          "name": "stdout",
          "text": [
            "Error: The file could not be opened because it was not found.\n"
          ]
        }
      ]
    },
    {
      "cell_type": "code",
      "source": [
        "#Q9 How can you read a file line by line and store its content in a list in Python?\n",
        "\n",
        "try:\n",
        "    with open(\"my_file.txt\", \"r\") as file:\n",
        "        lines = []\n",
        "        for line in file:\n",
        "            lines.append(line.strip())\n",
        "    print(\"File content stored in a list:\")\n",
        "    print(lines)\n",
        "except FileNotFoundError:\n",
        "    print(\"Error: The file was not found.\")\n",
        "except Exception as e:\n",
        "    print(f\"An error occurred: {e}\")"
      ],
      "metadata": {
        "colab": {
          "base_uri": "https://localhost:8080/"
        },
        "id": "GUmGY8wSfNjP",
        "outputId": "b1ba17f5-ae14-4f81-ea05-68aeb6c79fe0"
      },
      "execution_count": null,
      "outputs": [
        {
          "output_type": "stream",
          "name": "stdout",
          "text": [
            "Error: The file was not found.\n"
          ]
        }
      ]
    },
    {
      "cell_type": "code",
      "source": [
        "#Q10 How can you append data to an existing file in Python?\n",
        "\n",
        "try:\n",
        "    # Open the file in append mode ('a')\n",
        "    with open(\"my_file.txt\", \"a\") as file:\n",
        "        file.write(\"\\nThis line is appended to the file.\")\n",
        "    print(\"Data has been appended to 'my_file.txt'\")\n",
        "except Exception as e:\n",
        "    print(f\"An error occurred: {e}\")"
      ],
      "metadata": {
        "colab": {
          "base_uri": "https://localhost:8080/"
        },
        "id": "svp37yNjfgR0",
        "outputId": "1c634fbd-113d-4dfe-9b13-e2e3ca53cdf2"
      },
      "execution_count": null,
      "outputs": [
        {
          "output_type": "stream",
          "name": "stdout",
          "text": [
            "Data has been appended to 'my_file.txt'\n"
          ]
        }
      ]
    },
    {
      "cell_type": "code",
      "source": [
        "#Q11 Write a Python program that uses a try-except block to handle an error when attempting to access a dictionary key that doesn't exist.\n",
        "\n",
        "my_dict = {'a': 1, 'b': 2, 'c': 3}\n",
        "try:\n",
        "    value = my_dict['d']\n",
        "    print(value)\n",
        "except KeyError:\n",
        "    print(\"Error: The key was not found in the dictionary.\")\n",
        "except Exception as e:\n",
        "    print(f\"An unexpected error occurred: {e}\")"
      ],
      "metadata": {
        "colab": {
          "base_uri": "https://localhost:8080/"
        },
        "id": "rZ9S-kr8gE0d",
        "outputId": "a324b88a-e3d7-4f4b-96da-5f6b288d5f93"
      },
      "execution_count": null,
      "outputs": [
        {
          "output_type": "stream",
          "name": "stdout",
          "text": [
            "Error: The key was not found in the dictionary.\n"
          ]
        }
      ]
    },
    {
      "cell_type": "code",
      "source": [
        "#Q12 Write a program that demonstrates using multiple except blocks to handle different types of exceptions.\n",
        "\n",
        "def divide_numbers(a, b):\n",
        "    try:\n",
        "        result = a / b\n",
        "        print(f\"The result of division is: {result}\")\n",
        "    except ZeroDivisionError:\n",
        "        print(\"Error: Cannot divide by zero!\")\n",
        "    except TypeError:\n",
        "        print(\"Error: Invalid input types. Please provide numbers.\")\n",
        "    except Exception as e:\n",
        "        print(f\"An unexpected error occurred: {e}\")\n",
        "divide_numbers(10, 2)\n",
        "divide_numbers(10, 0)\n",
        "divide_numbers(10, \"2\")\n"
      ],
      "metadata": {
        "colab": {
          "base_uri": "https://localhost:8080/"
        },
        "id": "vl3VFDg7hVk9",
        "outputId": "ed8c6990-f06f-4c18-9a8d-26bf1c4b1b02"
      },
      "execution_count": null,
      "outputs": [
        {
          "output_type": "stream",
          "name": "stdout",
          "text": [
            "The result of division is: 5.0\n",
            "Error: Cannot divide by zero!\n",
            "Error: Invalid input types. Please provide numbers.\n"
          ]
        }
      ]
    },
    {
      "cell_type": "code",
      "source": [
        "#Q13  How would you check if a file exists before attempting to read it in Python?\n",
        "\n",
        "import os\n",
        "file_path = \"my_file.txt\"\n",
        "if os.path.exists(file_path):\n",
        "    print(f\"The file '{file_path}' exists.\")\n",
        "    try:\n",
        "        with open(file_path, \"r\") as file:\n",
        "            content = file.read()\n",
        "            print(\"File content:\")\n",
        "            print(content)\n",
        "    except Exception as e:\n",
        "        print(f\"An error occurred while reading the file: {e}\")\n",
        "else:\n",
        "    print(f\"The file '{file_path}' does not exist.\")\n"
      ],
      "metadata": {
        "colab": {
          "base_uri": "https://localhost:8080/"
        },
        "id": "eFEhyM8UiSle",
        "outputId": "2777182d-f6d4-4b9e-fb46-cb9d80cbcb22"
      },
      "execution_count": null,
      "outputs": [
        {
          "output_type": "stream",
          "name": "stdout",
          "text": [
            "The file 'my_file.txt' exists.\n",
            "File content:\n",
            "\n",
            "This line is appended to the file.\n"
          ]
        }
      ]
    },
    {
      "cell_type": "code",
      "source": [
        "#Q14 Write a program that uses the logging module to log both informational and error messages.\n",
        "\n",
        "import logging\n",
        "logging.basicConfig(level=logging.INFO, format='%(asctime)s:%(levelname)s:%(message)s')\n",
        "logging.info(\"This is an informational message.\")\n",
        "try:\n",
        "    result = 10 / 0\n",
        "except ZeroDivisionError:\n",
        "    logging.error(\"An error occurred: Division by zero.\")"
      ],
      "metadata": {
        "colab": {
          "base_uri": "https://localhost:8080/"
        },
        "id": "Y6OYRaHfiyn7",
        "outputId": "493b27ee-3b35-433e-b6b7-357414e79b59"
      },
      "execution_count": null,
      "outputs": [
        {
          "output_type": "stream",
          "name": "stderr",
          "text": [
            "ERROR:root:An error occurred: Division by zero.\n"
          ]
        }
      ]
    },
    {
      "cell_type": "code",
      "source": [
        "#Q15  Write a Python program that prints the content of a file and handles the case when the file is empty.\n",
        "\n",
        "def read_and_print_file(filename):\n",
        "    try:\n",
        "        with open(filename, 'r') as file:\n",
        "            content = file.read()\n",
        "            if not content:\n",
        "                print(f\"The file '{filename}' is empty.\")\n",
        "            else:\n",
        "                print(f\"Content of '{filename}':\")\n",
        "                print(content)\n",
        "    except FileNotFoundError:\n",
        "        print(f\"Error: The file '{filename}' was not found.\")\n",
        "    except Exception as e:\n",
        "        print(f\"An error occurred: {e}\")\n",
        "read_and_print_file(\"my_file.txt\")\n",
        "read_and_print_file(\"non_existent_file.txt\")\n",
        "try:\n",
        "    with open(\"empty_file.txt\", \"w\") as empty_file:\n",
        "        pass\n",
        "    read_and_print_file(\"empty_file.txt\")\n",
        "except Exception as e:\n",
        "    print(f\"Error creating empty file: {e}\")"
      ],
      "metadata": {
        "colab": {
          "base_uri": "https://localhost:8080/"
        },
        "id": "VZyauF1LjOjz",
        "outputId": "4abb2619-f40b-4a86-dd5c-b4ceeaac2ce0"
      },
      "execution_count": null,
      "outputs": [
        {
          "output_type": "stream",
          "name": "stdout",
          "text": [
            "Content of 'my_file.txt':\n",
            "\n",
            "This line is appended to the file.\n",
            "Error: The file 'non_existent_file.txt' was not found.\n",
            "The file 'empty_file.txt' is empty.\n"
          ]
        }
      ]
    },
    {
      "cell_type": "code",
      "metadata": {
        "colab": {
          "base_uri": "https://localhost:8080/"
        },
        "id": "8391fcc5",
        "outputId": "5b08195c-42de-4bf1-e1fa-9dd5306f1f81"
      },
      "source": [
        "#Q16  Demonstrate how to use memory profiling to check the memory usage of a small program\n",
        "\n",
        "!pip install memory-profiler\n",
        "\n",
        "%load_ext memory_profiler\n",
        "from memory_profiler import profile\n",
        "\n",
        "@profile\n",
        "def create_list():\n",
        "    my_list = [i for i in range(1000000)]\n",
        "    return my_list\n",
        "\n",
        "%memit create_list()"
      ],
      "execution_count": null,
      "outputs": [
        {
          "output_type": "stream",
          "name": "stdout",
          "text": [
            "Requirement already satisfied: memory-profiler in /usr/local/lib/python3.12/dist-packages (0.61.0)\n",
            "Requirement already satisfied: psutil in /usr/local/lib/python3.12/dist-packages (from memory-profiler) (5.9.5)\n",
            "The memory_profiler extension is already loaded. To reload it, use:\n",
            "  %reload_ext memory_profiler\n",
            "ERROR: Could not find file /tmp/ipython-input-1255790211.py\n",
            "peak memory: 159.16 MiB, increment: 18.75 MiB\n"
          ]
        }
      ]
    },
    {
      "cell_type": "code",
      "source": [
        "#Q17   Write a Python program to create and write a list of numbers to a file, one number per line.\n",
        "\n",
        "# Create a list of numbers\n",
        "numbers = [10, 25, 7, 42, 15, 99]\n",
        "\n",
        "# Define the filename\n",
        "filename = \"numbers_list.txt\"\n",
        "\n",
        "try:\n",
        "    with open(filename, \"w\") as file:\n",
        "        for number in numbers:\n",
        "            file.write(str(number) + \"\\n\")\n",
        "    print(f\"List of numbers successfully written to '{filename}'\")\n",
        "except Exception as e:\n",
        "    print(f\"An error occurred: {e}\")"
      ],
      "metadata": {
        "colab": {
          "base_uri": "https://localhost:8080/"
        },
        "id": "qgUgOdzKsWKh",
        "outputId": "6e676f1a-b7cb-4847-906b-8cdefa34110e"
      },
      "execution_count": null,
      "outputs": [
        {
          "output_type": "stream",
          "name": "stdout",
          "text": [
            "List of numbers successfully written to 'numbers_list.txt'\n"
          ]
        }
      ]
    },
    {
      "cell_type": "code",
      "source": [
        "#Q18  How would you implement a basic logging setup that logs to a file with rotation after 1MB?\n",
        "\n",
        "import logging\n",
        "import logging.handlers\n",
        "import os\n",
        "log_file = \"rotating_log.log\"\n",
        "logging.basicConfig(level=logging.INFO)\n",
        "rotating_handler = logging.handlers.RotatingFileHandler(\n",
        "    filename=log_file,\n",
        "    maxBytes=1024 * 1024,\n",
        "    backupCount=5\n",
        ")\n",
        "formatter = logging.Formatter('%(asctime)s - %(name)s - %(levelname)s - %(message)s')\n",
        "rotating_handler.setFormatter(formatter)\n",
        "\n",
        "logger = logging.getLogger('')\n",
        "logger.addHandler(rotating_handler)\n",
        "logging.info(\"This is an informational message.\")\n",
        "logging.warning(\"This is a warning message.\")\n",
        "logging.error(\"This is an error message.\")\n",
        "print(f\"Logging configured. Messages are being written to '{log_file}'\")\n",
        "if os.path.exists(log_file):\n",
        "    file_size = os.path.getsize(log_file)\n",
        "    print(f\"Current size of '{log_file}': {file_size} bytes\")"
      ],
      "metadata": {
        "colab": {
          "base_uri": "https://localhost:8080/"
        },
        "id": "YAwFwcg-TbYn",
        "outputId": "a9ad1c8c-6ab2-46f5-b0f1-156b829152a0"
      },
      "execution_count": null,
      "outputs": [
        {
          "output_type": "stream",
          "name": "stderr",
          "text": [
            "WARNING:root:This is a warning message.\n",
            "ERROR:root:This is an error message.\n"
          ]
        },
        {
          "output_type": "stream",
          "name": "stdout",
          "text": [
            "Logging configured. Messages are being written to 'rotating_log.log'\n",
            "Current size of 'rotating_log.log': 411 bytes\n"
          ]
        }
      ]
    },
    {
      "cell_type": "code",
      "source": [
        "#Q19   Write a program that handles both IndexError and KeyError using a try-except block.\n",
        "\n",
        "def handle_errors(data, index, key):\n",
        "    try:\n",
        "        list_element = data[index]\n",
        "        print(f\"Element at index {index}: {list_element}\")\n",
        "        dict_value = data[key]\n",
        "        print(f\"Value for key '{key}': {dict_value}\")\n",
        "    except IndexError:\n",
        "        print(f\"Error: Invalid index '{index}'. The index is out of range for the list.\")\n",
        "    except KeyError:\n",
        "        print(f\"Error: Invalid key '{key}'. The key was not found in the dictionary.\")\n",
        "    except Exception as e:\n",
        "        print(f\"An unexpected error occurred: {e}\")\n",
        "my_list = [1, 2, 3, 4, 5]\n",
        "my_dict = {\"a\": 10, \"b\": 20, \"c\": 30}\n",
        "\n",
        "print(\"--- Testing with valid inputs ---\")\n",
        "handle_errors(my_list, 2, None)\n",
        "handle_errors(my_dict, None, \"b\")\n",
        "\n",
        "print(\"\\n--- Testing with IndexError ---\")\n",
        "handle_errors(my_list, 10, None)\n",
        "\n",
        "print(\"\\n--- Testing with KeyError ---\")\n",
        "handle_errors(my_dict, None, \"d\")\n",
        "\n",
        "print(\"\\n--- Testing with both (using dictionary as data for index access) ---\")\n",
        "handle_errors(my_list, 10, \"b\")\n",
        "\n",
        "print(\"\\n--- Testing with both (using dictionary as data and invalid key) ---\")\n",
        "handle_errors(my_dict, 1, \"d\")"
      ],
      "metadata": {
        "colab": {
          "base_uri": "https://localhost:8080/"
        },
        "id": "H6kqiZ3FUfcV",
        "outputId": "087a14b8-e400-4416-dcc4-90956be7db74"
      },
      "execution_count": null,
      "outputs": [
        {
          "output_type": "stream",
          "name": "stdout",
          "text": [
            "--- Testing with valid inputs ---\n",
            "Element at index 2: 3\n",
            "An unexpected error occurred: list indices must be integers or slices, not NoneType\n",
            "Error: Invalid key 'b'. The key was not found in the dictionary.\n",
            "\n",
            "--- Testing with IndexError ---\n",
            "Error: Invalid index '10'. The index is out of range for the list.\n",
            "\n",
            "--- Testing with KeyError ---\n",
            "Error: Invalid key 'd'. The key was not found in the dictionary.\n",
            "\n",
            "--- Testing with both (using dictionary as data for index access) ---\n",
            "Error: Invalid index '10'. The index is out of range for the list.\n",
            "\n",
            "--- Testing with both (using dictionary as data and invalid key) ---\n",
            "Error: Invalid key 'd'. The key was not found in the dictionary.\n"
          ]
        }
      ]
    },
    {
      "cell_type": "code",
      "source": [
        "#Q20  How would you open a file and read its contents using a context manager in Python\n",
        "\n",
        "\n",
        "file_content = \"This is the first line.\\nThis is the second line.\\nAnd the third one.\"\n",
        "with open(\"my_demo_file.txt\", \"w\") as f:\n",
        "    f.write(file_content)\n",
        "try:\n",
        "    with open(\"my_demo_file.txt\", \"r\") as file:\n",
        "        content = file.read()\n",
        "        print(\"File content:\")\n",
        "        print(content)\n",
        "except FileNotFoundError:\n",
        "    print(\"Error: The file was not found.\")\n",
        "except Exception as e:\n",
        "    print(f\"An error occurred: {e}\")\n",
        "print(\"\\nFile is closed automatically after the 'with' block.\")"
      ],
      "metadata": {
        "colab": {
          "base_uri": "https://localhost:8080/"
        },
        "id": "py5CDMEWVLhj",
        "outputId": "7bf800df-fb40-477b-95ff-b3d39428484f"
      },
      "execution_count": null,
      "outputs": [
        {
          "output_type": "stream",
          "name": "stdout",
          "text": [
            "File content:\n",
            "This is the first line.\n",
            "This is the second line.\n",
            "And the third one.\n",
            "\n",
            "File is closed automatically after the 'with' block.\n"
          ]
        }
      ]
    },
    {
      "cell_type": "code",
      "source": [
        "#Q21  Write a Python program that reads a file and prints the number of occurrences of a specific word.\n",
        "\n",
        "def count_word_occurrences(filename, word):\n",
        "    try:\n",
        "        with open(filename, 'r') as file:\n",
        "            content = file.read()\n",
        "            content = content.lower()\n",
        "            word = word.lower()\n",
        "            word_count = content.split().count(word)\n",
        "            return word_count\n",
        "    except FileNotFoundError:\n",
        "        print(f\"Error: The file '{filename}' was not found.\")\n",
        "        return -1\n",
        "    except Exception as e:\n",
        "        print(f\"An error occurred: {e}\")\n",
        "        return -1\n",
        "filename = \"my_demo_file.txt\"\n",
        "word_to_find = \"the\"\n",
        "occurrences = count_word_occurrences(filename, word_to_find)\n",
        "if occurrences != -1:\n",
        "    print(f\"The word '{word_to_find}' appears {occurrences} times in '{filename}'.\")\n",
        "word_to_find_2 = \"python\"\n",
        "occurrences_2 = count_word_occurrences(filename, word_to_find_2)\n",
        "if occurrences_2 != -1:\n",
        "    print(f\"The word '{word_to_find_2}' appears {occurrences_2} times in '{filename}'.\")\n",
        "count_word_occurrences(\"non_existent_file.txt\", \"test\")"
      ],
      "metadata": {
        "colab": {
          "base_uri": "https://localhost:8080/"
        },
        "id": "rXdSDzSrVpFh",
        "outputId": "15c0bbac-67dc-488d-a288-257b95340c33"
      },
      "execution_count": null,
      "outputs": [
        {
          "output_type": "stream",
          "name": "stdout",
          "text": [
            "The word 'the' appears 3 times in 'my_demo_file.txt'.\n",
            "The word 'python' appears 0 times in 'my_demo_file.txt'.\n",
            "Error: The file 'non_existent_file.txt' was not found.\n"
          ]
        },
        {
          "output_type": "execute_result",
          "data": {
            "text/plain": [
              "-1"
            ]
          },
          "metadata": {},
          "execution_count": 7
        }
      ]
    },
    {
      "cell_type": "code",
      "source": [
        "#Q22  How can you check if a file is empty before attempting to read its contents.\n",
        "\n",
        "import os\n",
        "def is_file_empty(filepath):\n",
        "    if not os.path.exists(filepath):\n",
        "        print(f\"Error: File not found at '{filepath}'\")\n",
        "        return True\n",
        "    else:\n",
        "        return os.path.getsize(filepath) == 0\n",
        "with open(\"non_empty_file.txt\", \"w\") as f:\n",
        "    f.write(\"This file has content.\")\n",
        "with open(\"empty_file.txt\", \"w\") as f:\n",
        "    pass\n",
        "print(f\"Is 'non_empty_file.txt' empty? {is_file_empty('non_empty_file.txt')}\")\n",
        "print(f\"Is 'empty_file.txt' empty? {is_file_empty('empty_file.txt')}\")\n",
        "print(f\"Is 'non_existent_file.txt' empty? {is_file_empty('non_existent_file.txt')}\")\n",
        "filename_to_read = \"non_empty_file.txt\"\n",
        "if not is_file_empty(filename_to_read):\n",
        "    try:\n",
        "        with open(filename_to_read, 'r') as file:\n",
        "            content = file.read()\n",
        "            print(f\"\\nContent of '{filename_to_read}':\\n{content}\")\n",
        "    except Exception as e:\n",
        "        print(f\"An error occurred while reading: {e}\")\n",
        "else:\n",
        "    print(f\"\\n'{filename_to_read}' is empty or does not exist, not attempting to read.\")\n",
        "filename_to_read_empty = \"empty_file.txt\"\n",
        "if not is_file_empty(filename_to_read_empty):\n",
        "     try:\n",
        "        with open(filename_to_read_empty, 'r') as file:\n",
        "            content = file.read()\n",
        "            print(f\"\\nContent of '{filename_to_read_empty}':\\n{content}\")\n",
        "     except Exception as e:\n",
        "        print(f\"An error occurred while reading: {e}\")\n",
        "else:\n",
        "    print(f\"\\n'{filename_to_read_empty}' is empty or does not exist, not attempting to read.\")\n",
        "filename_to_read_non_existent = \"non_existent_file_for_reading.txt\"\n",
        "if not is_file_empty(filename_to_read_non_existent):\n",
        "     try:\n",
        "        with open(filename_to_read_non_existent, 'r') as file:\n",
        "            content = file.read()\n",
        "            print(f\"\\nContent of '{filename_to_read_non_existent}':\\n{content}\")\n",
        "     except Exception as e:\n",
        "        print(f\"An error occurred while reading: {e}\")\n",
        "else:\n",
        "    print(f\"\\n'{filename_to_read_non_existent}' is empty or does not exist, not attempting to read.\")"
      ],
      "metadata": {
        "colab": {
          "base_uri": "https://localhost:8080/"
        },
        "id": "E4fM1aImWhux",
        "outputId": "c3eff7b1-1758-410e-f315-0b71f893b492"
      },
      "execution_count": null,
      "outputs": [
        {
          "output_type": "stream",
          "name": "stdout",
          "text": [
            "Is 'non_empty_file.txt' empty? False\n",
            "Is 'empty_file.txt' empty? True\n",
            "Error: File not found at 'non_existent_file.txt'\n",
            "Is 'non_existent_file.txt' empty? True\n",
            "\n",
            "Content of 'non_empty_file.txt':\n",
            "This file has content.\n",
            "\n",
            "'empty_file.txt' is empty or does not exist, not attempting to read.\n",
            "Error: File not found at 'non_existent_file_for_reading.txt'\n",
            "\n",
            "'non_existent_file_for_reading.txt' is empty or does not exist, not attempting to read.\n"
          ]
        }
      ]
    },
    {
      "cell_type": "code",
      "source": [
        "#Q23  Write a Python program that writes to a log file when an error occurs during file handling.\n",
        "\n",
        "import logging\n",
        "logging.basicConfig(filename='file_error.log', level=logging.ERROR, format='%(asctime)s:%(levelname)s:%(message)s')\n",
        "def read_file_with_logging(filename):\n",
        "    try:\n",
        "        with open(filename, 'r') as file:\n",
        "            content = file.read()\n",
        "            print(f\"Successfully read content from '{filename}':\")\n",
        "            print(content)\n",
        "    except FileNotFoundError:\n",
        "        logging.error(f\"Attempted to read non-existent file: {filename}\")\n",
        "        print(f\"Error: The file '{filename}' was not found. An error has been logged.\")\n",
        "    except Exception as e:\n",
        "        logging.error(f\"An unexpected error occurred while reading '{filename}': {e}\")\n",
        "        print(f\"An unexpected error occurred while reading '{filename}'. An error has been logged.\")\n",
        "read_file_with_logging(\"my_demo_file.txt\")\n",
        "print(\"-\" * 20)\n",
        "read_file_with_logging(\"non_existent_file_for_logging.txt\")"
      ],
      "metadata": {
        "colab": {
          "base_uri": "https://localhost:8080/"
        },
        "id": "22DX-gKhXjzf",
        "outputId": "6d879ae3-1a2a-4c75-99e7-c066fe1c0a5e"
      },
      "execution_count": null,
      "outputs": [
        {
          "output_type": "stream",
          "name": "stderr",
          "text": [
            "ERROR:root:Attempted to read non-existent file: non_existent_file_for_logging.txt\n"
          ]
        },
        {
          "output_type": "stream",
          "name": "stdout",
          "text": [
            "Successfully read content from 'my_demo_file.txt':\n",
            "This is the first line.\n",
            "This is the second line.\n",
            "And the third one.\n",
            "--------------------\n",
            "Error: The file 'non_existent_file_for_logging.txt' was not found. An error has been logged.\n"
          ]
        }
      ]
    }
  ]
}