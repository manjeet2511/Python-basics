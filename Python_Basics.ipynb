{
  "nbformat": 4,
  "nbformat_minor": 0,
  "metadata": {
    "colab": {
      "provenance": []
    },
    "kernelspec": {
      "name": "python3",
      "display_name": "Python 3"
    },
    "language_info": {
      "name": "python"
    }
  },
  "cells": [
    {
      "cell_type": "markdown",
      "source": [
        "**Q1)    What is Python, and why is it popular?**\n",
        "\n",
        "ANS:- Python is a programming language. It was created by Guido van Rossum.\n",
        "It is used for:\n",
        "web development, software development, etc.   It is popular because it is easy to learn and use and has a lot of libraries and easy for automation, image processing and database. It is a cross-Platform which runs on almost all types of system such as Windows, Mac, Linux etc.\n",
        "\n",
        "       \n",
        "**Q2)    What is an interpreter in Python?**\n",
        "\n",
        "ANS:- An interpreter in Python is a program that reads and executes Python code line by line. It runs the code line by line instead of compiling the entire code.\n",
        "\n",
        "\n",
        "**Q3)   What are pre-defined keywords in Python?**\n",
        "\n",
        "ANS:-Pre-defined keywords in are special words that are built into the language. They have specific meanings and purposes. It is also known as reserved words as the Python uses them to define the code\n",
        "i.e.- if, else, elif, for, while, break, continue, etc.\n",
        "\n",
        "\n",
        "**Q4)   Can keywords be used as variable names?**\n",
        "\n",
        "Ans:-As they have specific meanings and purposes it cannot bs use as variable names.\n",
        "\n",
        "\n",
        "**Q5)  What is mutability in Python?**\n",
        "\n",
        "ANS:-Container whose state or value can be changed after they are created are called as mutability.\n",
        "\n",
        "\n",
        "**Q6)   Why are lists mutable, but tuples are immutable?**\n",
        "\n",
        "ANS:-Lists are mutable for flexibility, it store the collection of items that might change where as tuples are immutable for stability and safety, it stores fixed collection of items.\n",
        "\n",
        "\n",
        "**Q7)  What is the difference between “==” and “is” operators in Python?**\n",
        "\n",
        "ANS:-“==” is a comparison operator which compares two Values, whereas “is” is a identity operator which compares the memory location of two object.\n",
        "\n",
        "\n",
        "**Q8)  What are logical operators in Python?**\n",
        "\n",
        "ANS:-Logical operators in Python, also known as Boolean operators. They are used to combine conditional statements and evaluate expressions that result in a Boolean value.\n",
        "\n",
        "\n",
        "**Q9)  What is type casting in Python?**\n",
        "\n",
        "ANS:-Type casting is type conversion and is the process of converting one data type into another — for example, changing a string into an integer or a float into a string.\n",
        "\n",
        "\n",
        "**Q10) What is the difference between implicit and explicit type casting?**\n",
        "\n",
        "ANS:-Implicit and Explicit type casting is a type conversion to convert a value from one data type to another in programming. Implicit type casting is done automatically  where it is safe and doesn't cause data loss whereas explicit type casting is performed by the programmer using a cast operator it has risk of dataloss or value error.\n",
        "\n",
        "\n",
        "**Q11) What is the purpose of conditional statements in Python?**\n",
        "\n",
        "ANS:-Conditional statements helps us to code decisions based on some preconditions. Common conditional keywords in Python are \"if, else, elif\".\n",
        "\n",
        "\n",
        "**Q12) How does the elif statement work?**\n",
        "\n",
        "ANS:-The elif statement let us check multiple conditions one after another when using if statements. It allow our code to choose only one block to execute even if more than one condition is true — Python picks the first one that is true and skips the rest.\n",
        "\n",
        "\n",
        "**Q13) What is the difference between for and while loops?**\n",
        "\n",
        "ANS:-'For' loops are typically used when the number of iterations is known beforehand, while 'while' loops are more suitable when the number of iterations is not known in advance and depends on a condition.\n",
        "\n",
        "\n",
        "**Q14) Describe a scenario where a while loop is more suitable than a for loop?**\n",
        "\n",
        "ANS:-Imagine you’re building a Screen lock password for your mobile and laptops that keeps asking a user to enter the correct password. The Mobile phone or laptop should allow unlimited attempts until the user enters the right PIN. In this case you don’t know how many attempts the user might need so a while loop is more suitable because it keeps running as long as the condition wrong password remains true. A for loop would not fit well here, because it’s designed for situations where the number of repetitions is known or fixed.\n"
      ],
      "metadata": {
        "id": "Hr_Zam4EaEFV"
      }
    },
    {
      "cell_type": "code",
      "source": [
        "#Q1) Write a Python program to print \"Hello, World!\"\n",
        "\n",
        "print(\"Hello, World!\")\n"
      ],
      "metadata": {
        "colab": {
          "base_uri": "https://localhost:8080/"
        },
        "id": "HYTUnSkkcBTQ",
        "outputId": "3151ceb8-59a1-4bdf-ccab-fa5899a3233f"
      },
      "execution_count": null,
      "outputs": [
        {
          "output_type": "stream",
          "name": "stdout",
          "text": [
            "Hello, World!\n"
          ]
        }
      ]
    },
    {
      "cell_type": "code",
      "source": [
        "#Q2) Write a Python program that displays your name and age.\n",
        "\n",
        "name = ('Manjeet Kumar')\n",
        "age = ('24')\n",
        "\n",
        "print(name)\n",
        "print(age)"
      ],
      "metadata": {
        "colab": {
          "base_uri": "https://localhost:8080/"
        },
        "id": "OPDAj0DOcPiT",
        "outputId": "97f417ca-1e22-41cd-a8c7-b1090cd6e6e2"
      },
      "execution_count": null,
      "outputs": [
        {
          "output_type": "stream",
          "name": "stdout",
          "text": [
            "Manjeet Kumar\n",
            "24\n"
          ]
        }
      ]
    },
    {
      "cell_type": "code",
      "source": [
        "#Q3) Write code to print all the pre-defined keywords in Python using the keyword library.\n",
        "\n",
        "import keyword\n",
        "keywords_list = keyword.kwlist\n",
        "print(\"Total number of Python keywords:\", len(keywords_list))\n",
        "print(\"Python Keywords:\")\n",
        "for kw in keywords_list:\n",
        "    print(kw)"
      ],
      "metadata": {
        "colab": {
          "base_uri": "https://localhost:8080/"
        },
        "id": "dkm-zKS9cfdX",
        "outputId": "55da05d8-b160-48ce-ba12-ec1bbc939e6d"
      },
      "execution_count": null,
      "outputs": [
        {
          "output_type": "stream",
          "name": "stdout",
          "text": [
            "Total number of Python keywords: 35\n",
            "Python Keywords:\n",
            "False\n",
            "None\n",
            "True\n",
            "and\n",
            "as\n",
            "assert\n",
            "async\n",
            "await\n",
            "break\n",
            "class\n",
            "continue\n",
            "def\n",
            "del\n",
            "elif\n",
            "else\n",
            "except\n",
            "finally\n",
            "for\n",
            "from\n",
            "global\n",
            "if\n",
            "import\n",
            "in\n",
            "is\n",
            "lambda\n",
            "nonlocal\n",
            "not\n",
            "or\n",
            "pass\n",
            "raise\n",
            "return\n",
            "try\n",
            "while\n",
            "with\n",
            "yield\n"
          ]
        }
      ]
    },
    {
      "cell_type": "code",
      "source": [
        "#Q4) Write a program that checks if a given word is a Python keyword.\n",
        "\n",
        "import keyword\n",
        "word = input(\"Enter a word to check if it's a Python keyword: \")\n",
        "if keyword.iskeyword(word):\n",
        "    print(f\"'{word}' is a Python keyword.\")\n",
        "else:\n",
        "    print(f\"'{word}' is NOT a Python keyword.\")"
      ],
      "metadata": {
        "colab": {
          "base_uri": "https://localhost:8080/"
        },
        "id": "kMZqBCVpcwYA",
        "outputId": "7826212d-c40a-403d-9bf2-4dda7b18246e"
      },
      "execution_count": null,
      "outputs": [
        {
          "output_type": "stream",
          "name": "stdout",
          "text": [
            "Enter a word to check if it's a Python keyword: if\n",
            "'if' is a Python keyword.\n"
          ]
        }
      ]
    },
    {
      "cell_type": "code",
      "source": [
        "#Q5)  Create a list and tuple in Python, and demonstrate how attempting to change an element worksdifferently for each.\n",
        "\n",
        "my_list = [10, 20, 30]\n",
        "my_tuple = (10, 20, 30)\n",
        "print(\"Original list:\", my_list)\n",
        "my_list[1] = 99\n",
        "print(\"Modified list:\", my_list)\n",
        "print(\"\\nOriginal tuple:\", my_tuple)\n",
        "try:\n",
        "    my_tuple[1] = 99\n",
        "except TypeError as e:\n",
        "    print(\"Error when trying to modify tuple:\", e)"
      ],
      "metadata": {
        "colab": {
          "base_uri": "https://localhost:8080/"
        },
        "id": "G6-xYcg1c49u",
        "outputId": "e38c1def-8fef-4938-c867-6df38d99b7e6"
      },
      "execution_count": null,
      "outputs": [
        {
          "output_type": "stream",
          "name": "stdout",
          "text": [
            "Original list: [10, 20, 30]\n",
            "Modified list: [10, 99, 30]\n",
            "\n",
            "Original tuple: (10, 20, 30)\n",
            "Error when trying to modify tuple: 'tuple' object does not support item assignment\n"
          ]
        }
      ]
    },
    {
      "cell_type": "code",
      "source": [
        "#Q6)  Write a function to demonstrate the behavior of mutable and immutable arguments.\n",
        "\n",
        "def modify_arguments(immutable_arg, mutable_arg):\n",
        "    print(\"Inside function before modification:\")\n",
        "    print(f\"Immutable: {immutable_arg}, Mutable: {mutable_arg}\")\n",
        "    immutable_arg += 100\n",
        "    mutable_arg.append(100)\n",
        "    print(\"Inside function after modification:\")\n",
        "    print(f\"Immutable: {immutable_arg}, Mutable: {mutable_arg}\")\n",
        "x = 10\n",
        "y = [1, 2, 3]\n",
        "\n",
        "print(\"Before function call:\")\n",
        "print(f\"x = {x}, y = {y}\")\n",
        "\n",
        "modify_arguments(x, y)\n",
        "\n",
        "print(\"After function call:\")\n",
        "print(f\"x = {x}, y = {y}\")"
      ],
      "metadata": {
        "colab": {
          "base_uri": "https://localhost:8080/"
        },
        "id": "M7ihaDjodCtw",
        "outputId": "011cdf16-a2c1-4943-fae6-1434dcd9075b"
      },
      "execution_count": null,
      "outputs": [
        {
          "output_type": "stream",
          "name": "stdout",
          "text": [
            "Before function call:\n",
            "x = 10, y = [1, 2, 3]\n",
            "Inside function before modification:\n",
            "Immutable: 10, Mutable: [1, 2, 3]\n",
            "Inside function after modification:\n",
            "Immutable: 110, Mutable: [1, 2, 3, 100]\n",
            "After function call:\n",
            "x = 10, y = [1, 2, 3, 100]\n"
          ]
        }
      ]
    },
    {
      "cell_type": "code",
      "source": [
        "#Q7)  Write a program that performs basic arithmetic operations on two user-input numbers.\n",
        "\n",
        "num1 = float(input(\"Enter the first number: \"))\n",
        "num2 = float(input(\"Enter the second number: \"))\n",
        "sum_result = num1 + num2\n",
        "difference_result = num1 - num2\n",
        "product_result = num1 * num2\n",
        "if num2 != 0:\n",
        "    division_result = num1 / num2\n",
        "else:\n",
        "    division_result = \"Cannot divide by zero\"\n",
        "\n",
        "print(f\"Sum: {sum_result}\")\n",
        "print(f\"Difference: {difference_result}\")\n",
        "print(f\"Product: {product_result}\")\n",
        "print(f\"Division: {division_result}\")"
      ],
      "metadata": {
        "colab": {
          "base_uri": "https://localhost:8080/"
        },
        "id": "nCy6uEs6dSIe",
        "outputId": "930ff253-89c2-45e8-8036-c4e292ea914b"
      },
      "execution_count": null,
      "outputs": [
        {
          "output_type": "stream",
          "name": "stdout",
          "text": [
            "Enter the first number: 45\n",
            "Enter the second number: 6\n",
            "Sum: 51.0\n",
            "Difference: 39.0\n",
            "Product: 270.0\n",
            "Division: 7.5\n"
          ]
        }
      ]
    },
    {
      "cell_type": "code",
      "source": [
        "#Q8) Write a program to demonstrate the use of logical operators.\n",
        "\n",
        "def main():\n",
        "    print(\"Logical Operators Demonstration\")\n",
        "    try:\n",
        "        age = int(input(\"Enter your age: \"))\n",
        "        has_id = input(\"Do you have a valid ID? (yes/no): \").strip().lower()\n",
        "    except ValueError:\n",
        "        print(\"Invalid input. Please enter correct values.\")\n",
        "        return\n",
        "    has_id_bool = has_id == 'yes'\n",
        "    if age >= 18 and has_id_bool:\n",
        "        print(\"\\nAccess granted: You are eligible to enter.\")\n",
        "    else:\n",
        "        print(\"\\nAccess denied: You must be 18+ and have a valid ID.\")\n",
        "    if age <= 18 or has_id_bool:\n",
        "        print(\"At least one requirement is met (either age or ID).\")\n",
        "    if not has_id_bool:\n",
        "        print(\"You do not have a valid ID.\")\n",
        "if __name__ == \"__main__\":\n",
        "    main()"
      ],
      "metadata": {
        "colab": {
          "base_uri": "https://localhost:8080/"
        },
        "id": "QLcebV2TdcEJ",
        "outputId": "aac2980b-d65d-435c-cc06-068a1e4b0f7c"
      },
      "execution_count": null,
      "outputs": [
        {
          "output_type": "stream",
          "name": "stdout",
          "text": [
            "Logical Operators Demonstration\n",
            "Enter your age: 25\n",
            "Do you have a valid ID? (yes/no): yes\n",
            "\n",
            "Access granted: You are eligible to enter.\n",
            "At least one requirement is met (either age or ID).\n"
          ]
        }
      ]
    },
    {
      "cell_type": "code",
      "source": [
        "#Q9) Write a Python program to convert user input from string to integer, float, and boolean types.\n",
        "\n",
        "def string_to_boolean(input_string):\n",
        "  \"\"\"Converts a string to a boolean.\"\"\"\n",
        "  if input_string.lower() in ['true', 't', 'yes', 'y', '1']:\n",
        "    return True\n",
        "  elif input_string.lower() in ['false', 'f', 'no', 'n', '0']:\n",
        "    return False\n",
        "  else:\n",
        "    raise ValueError(f\"Cannot convert '{input_string}' to boolean.\")\n",
        "user_input = input(\"Enter a value: \")\n",
        "try:\n",
        "  int_value = int(user_input)\n",
        "  print(f\"Converted to integer: {int_value} (Type: {type(int_value)})\")\n",
        "except ValueError:\n",
        "  print(f\"Could not convert '{user_input}' to integer.\")\n",
        "try:\n",
        "  float_value = float(user_input)\n",
        "  print(f\"Converted to float: {float_value} (Type: {type(float_value)})\")\n",
        "except ValueError:\n",
        "  print(f\"Could not convert '{user_input}' to float.\")\n",
        "try:\n",
        "  bool_value = string_to_boolean(user_input)\n",
        "  print(f\"Converted to boolean: {bool_value} (Type: {type(bool_value)})\")\n",
        "except ValueError as e:\n",
        "  print(f\"Could not convert '{user_input}' to boolean: {e}\")"
      ],
      "metadata": {
        "colab": {
          "base_uri": "https://localhost:8080/"
        },
        "id": "1wFFoi0RdsG4",
        "outputId": "da90f91d-aa79-421c-c5a2-e97eed471b5f"
      },
      "execution_count": null,
      "outputs": [
        {
          "output_type": "stream",
          "name": "stdout",
          "text": [
            "Enter a value: 5\n",
            "Converted to integer: 5 (Type: <class 'int'>)\n",
            "Converted to float: 5.0 (Type: <class 'float'>)\n",
            "Could not convert '5' to boolean: Cannot convert '5' to boolean.\n"
          ]
        }
      ]
    },
    {
      "cell_type": "code",
      "source": [
        "#Q10) Write code to demonstrate type casting with list elements.\n",
        "\n",
        "def main():\n",
        "    print(\"Type Casting with List Elements\")\n",
        "    string_list = [\"10\", \"20.5\", \"0\", \"True\", \"false\", \"PWskills\"]\n",
        "    print(f\"\\nOriginal list: {string_list}\")\n",
        "    int_list = []\n",
        "    for item in string_list:\n",
        "        try:\n",
        "            int_list.append(int(float(item)))  # Handles integers and float-like strings\n",
        "        except ValueError:\n",
        "            int_list.append(None)  # Mark unconvertible items\n",
        "    print(f\"Integer cast: {int_list}\")\n",
        "    float_list = []\n",
        "    for item in string_list:\n",
        "        try:\n",
        "            float_list.append(float(item))\n",
        "        except ValueError:\n",
        "            float_list.append(None)\n",
        "    print(f\"Float cast: {float_list}\")\n",
        "    bool_list = []\n",
        "    for item in string_list:\n",
        "        lower = item.strip().lower()\n",
        "        if lower in ['true', '1', 'yes']:\n",
        "            bool_list.append(True)\n",
        "        elif lower in ['false', '0', 'no']:\n",
        "            bool_list.append(False)\n",
        "        else:\n",
        "            bool_list.append(None)\n",
        "    print(f\"Boolean cast: {bool_list}\")\n",
        "if __name__ == \"__main__\":\n",
        "    main()"
      ],
      "metadata": {
        "colab": {
          "base_uri": "https://localhost:8080/"
        },
        "id": "p0NwPQJHd1DP",
        "outputId": "224d2b9d-cf7b-4bcc-a93c-23dbabc972fb"
      },
      "execution_count": null,
      "outputs": [
        {
          "output_type": "stream",
          "name": "stdout",
          "text": [
            "Type Casting with List Elements\n",
            "\n",
            "Original list: ['10', '20.5', '0', 'True', 'false', 'PWskills']\n",
            "Integer cast: [10, 20, 0, None, None, None]\n",
            "Float cast: [10.0, 20.5, 0.0, None, None, None]\n",
            "Boolean cast: [None, None, False, True, False, None]\n"
          ]
        }
      ]
    },
    {
      "cell_type": "code",
      "source": [
        "#Q11)  Write a program that checks if a number is positive, negative, or zero.\n",
        "\n",
        "number = float(input(\"Enter a number: \"))\n",
        "if number > 0:\n",
        "    print(\"The number is positive.\")\n",
        "elif number < 0:\n",
        "    print(\"The number is negative.\")\n",
        "else:\n",
        "    print(\"The number is zero.\")"
      ],
      "metadata": {
        "colab": {
          "base_uri": "https://localhost:8080/"
        },
        "id": "jLdBedENeE58",
        "outputId": "117e3788-e996-47f2-a49d-16951b8478ef"
      },
      "execution_count": null,
      "outputs": [
        {
          "output_type": "stream",
          "name": "stdout",
          "text": [
            "Enter a number: 36\n",
            "The number is positive.\n"
          ]
        }
      ]
    },
    {
      "cell_type": "code",
      "source": [
        "#Q12) Write a for loop to print numbers from 1 to 10.\n",
        "\n",
        "for i in range(1 , 11):\n",
        "  print(i)"
      ],
      "metadata": {
        "colab": {
          "base_uri": "https://localhost:8080/"
        },
        "id": "ui05fTATeJPE",
        "outputId": "7b9e7ec9-af9b-4cf5-c97a-c74639d760fe"
      },
      "execution_count": null,
      "outputs": [
        {
          "output_type": "stream",
          "name": "stdout",
          "text": [
            "1\n",
            "2\n",
            "3\n",
            "4\n",
            "5\n",
            "6\n",
            "7\n",
            "8\n",
            "9\n",
            "10\n"
          ]
        }
      ]
    },
    {
      "cell_type": "code",
      "source": [
        "#Q13) Write a Python program to find the sum of all even numbers between 1 and 50\n",
        "\n",
        "sum_even = 0\n",
        "for number in range(1, 51):\n",
        "    if number % 2 == 0:\n",
        "        sum_even += number\n",
        "print(\"The sum of all even numbers between 1 and 50 is:\", sum_even)"
      ],
      "metadata": {
        "colab": {
          "base_uri": "https://localhost:8080/"
        },
        "id": "fHhOx8foeeZf",
        "outputId": "5bb1547d-5aa2-436e-c398-087b8a44006f"
      },
      "execution_count": null,
      "outputs": [
        {
          "output_type": "stream",
          "name": "stdout",
          "text": [
            "The sum of all even numbers between 1 and 50 is: 650\n"
          ]
        }
      ]
    },
    {
      "cell_type": "code",
      "source": [
        "#Q14) Write a program to reverse a string using a while loop.\n",
        "\n",
        "text = input(\"Enter a string: \")\n",
        "reversed_text = \"\"\n",
        "index = len(text) - 1\n",
        "while index >= 0:\n",
        "    reversed_text += text[index]\n",
        "    index -= 1\n",
        "print(\"Reversed string:\", reversed_text)"
      ],
      "metadata": {
        "colab": {
          "base_uri": "https://localhost:8080/"
        },
        "id": "2hLRZsoIe-j2",
        "outputId": "1f142a4d-c7a3-4e5f-d72a-5e8383b71c25"
      },
      "execution_count": null,
      "outputs": [
        {
          "output_type": "stream",
          "name": "stdout",
          "text": [
            "Enter a string: 36\n",
            "Reversed string: 63\n"
          ]
        }
      ]
    },
    {
      "cell_type": "code",
      "source": [
        "#Q15) Write a Python program to calculate the factorial of a number provided by the user using a while loop\n",
        "\n",
        "num = int(input(\"Enter a non-negative integer: \"))\n",
        "if num < 0:\n",
        "    print(\"Factorial is not defined for negative numbers.\")\n",
        "else:\n",
        "    factorial = 1\n",
        "    n = num\n",
        "    while n > 1:\n",
        "        factorial *= n\n",
        "        n -= 1\n",
        "    print(f\"The factorial of {num} is {factorial}\")"
      ],
      "metadata": {
        "colab": {
          "base_uri": "https://localhost:8080/"
        },
        "id": "fn5ZV9PIfvgu",
        "outputId": "bee9fb03-84c9-4cbe-cdaf-7ccb06db840c"
      },
      "execution_count": null,
      "outputs": [
        {
          "output_type": "stream",
          "name": "stdout",
          "text": [
            "Enter a non-negative integer: 4\n",
            "The factorial of 4 is 24\n"
          ]
        }
      ]
    },
    {
      "cell_type": "code",
      "source": [],
      "metadata": {
        "id": "f6i3S5uuf3-l"
      },
      "execution_count": null,
      "outputs": []
    }
  ]
}